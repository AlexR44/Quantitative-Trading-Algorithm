{
 "cells": [
  {
   "cell_type": "markdown",
   "id": "63f7f264-09f0-4a2f-a319-d1b6074c8953",
   "metadata": {},
   "source": [
    "# Features Engineering\n",
    "Moving averages and moving measures of volatility (i.e., standard devistions) will be generated to be used as features for a principal component analysis (PCA) with the goal to reduce input variables."
   ]
  },
  {
   "cell_type": "code",
   "execution_count": 5,
   "id": "b3a334f3-24fa-426a-bce1-0e145a64628f",
   "metadata": {},
   "outputs": [],
   "source": [
    "### Defining function to perform features engineering tasks\n",
    "\n",
    "def features_engineering(df,verbose=True):\n",
    "    \n",
    "    # Importing required libraries\n",
    "    import numpy as np\n",
    "    import pandas as pd\n",
    "    from sklearn.decomposition import PCA\n",
    "    from sklearn.preprocessing import StandardScaler\n",
    "    from sklearn.model_selection import train_test_split\n",
    "    \n",
    "    \n",
    "    # Variables\n",
    "    global X_train\n",
    "    global X_test\n",
    "    global X_val\n",
    "    global y_train\n",
    "    global y_test\n",
    "    global y_val\n",
    "    global X_train_scaled\n",
    "    global X_test_scaled\n",
    "    global X_val_scaled\n",
    "    global X_train_pca\n",
    "    global X_test_pca\n",
    "    global X_val_pca\n",
    "    global X_test_val\n",
    "    global y_test_val\n",
    "    \n",
    "    \n",
    "    # Calling create_lagged_series function to calculate returns, lagged returns, volume, and direction\n",
    "    %run create_lagged_series.ipynb\n",
    "    ret=create_lagged_series(df)\n",
    "    \n",
    "    # Creating training, test, and validation sets\n",
    "    y=ret['today']\n",
    "    X=ret\n",
    "    X.drop('today', axis=1, inplace=True)\n",
    "     \n",
    "    \n",
    "    # Using 33% for training and 66% for testing \n",
    "    (X_train, X_test_val, y_train, y_test_val) =train_test_split(X,y,test_size=0.75,random_state=1,shuffle=False)\n",
    "    (X_test, X_val, y_test, y_val) =train_test_split(X_test_val,y_test_val,test_size=0.8,random_state=1,shuffle=False)\n",
    "        \n",
    "    # Normalizing data\n",
    "    # Using the `StandardScaler()` module from scikit-learn to normalize the data\n",
    "    X_train_scaled = StandardScaler().fit_transform(X_train)\n",
    "    X_test_scaled = StandardScaler().fit_transform(X_test)\n",
    "    X_val_scaled = StandardScaler().fit_transform(X_val)\n",
    "    \n",
    "    # Performing Principal Component Analysis (PCA), reducing to 3 components\n",
    "    pca_model=PCA(n_components=3)\n",
    "\n",
    "    X_train_pca= pca_model.fit_transform(X_train_scaled)\n",
    "    X_test_pca= pca_model.fit_transform(X_test_scaled)\n",
    "    X_val_pca = pca_model.fit_transform(X_val_scaled)\n",
    "        \n",
    "    if verbose == True:\n",
    "        print('Explained total variation of 3 components: {}'.format(pca_model.explained_variance_ratio_.sum())) \n",
    "    \n",
    "    "
   ]
  },
  {
   "cell_type": "code",
   "execution_count": null,
   "id": "0f32beea-efb5-4bdc-abc7-c1f8bf26d694",
   "metadata": {},
   "outputs": [],
   "source": []
  },
  {
   "cell_type": "code",
   "execution_count": null,
   "id": "f1cf68c6-465e-4deb-8f2f-79fe3f1a166c",
   "metadata": {},
   "outputs": [],
   "source": []
  }
 ],
 "metadata": {
  "kernelspec": {
   "display_name": "Python 3 (ipykernel)",
   "language": "python",
   "name": "python3"
  },
  "language_info": {
   "codemirror_mode": {
    "name": "ipython",
    "version": 3
   },
   "file_extension": ".py",
   "mimetype": "text/x-python",
   "name": "python",
   "nbconvert_exporter": "python",
   "pygments_lexer": "ipython3",
   "version": "3.7.13"
  }
 },
 "nbformat": 4,
 "nbformat_minor": 5
}
