{
 "cells": [
  {
   "cell_type": "markdown",
   "id": "f38b0b7d-9da7-4958-9173-846597bb9964",
   "metadata": {},
   "source": [
    "# Ensemble Forecast Function\n",
    "This function executes the strategy using an ensemble machine learning model"
   ]
  },
  {
   "cell_type": "code",
   "execution_count": 3,
   "id": "b4fae3a7-4697-426c-9e92-3cd2299c6c28",
   "metadata": {},
   "outputs": [],
   "source": [
    "def voting (model_1,model_2, model_3):\n",
    "    \n",
    "    # Importing required libraries\n",
    "    import numpy as np\n",
    "    import pandas as pd\n",
    "    from sklearn.ensemble import VotingClassifier\n",
    "    \n",
    "    \n",
    "    # variables\n",
    "    global vot_pred\n",
    "    \n",
    "        \n",
    "   # Initiating and Fitting the model to the data using the training data\n",
    "    vot = VotingClassifier(estimators=[('1',model_1),('2',model_2),('3',model_3)])\n",
    "    mod=vot.fit(X_train_pca,y_train.values)\n",
    "        \n",
    "    # creating predictions for the data set\n",
    "    \n",
    "    vot_pred=mod.predict(X_test_pca)\n",
    "    vot_pred=pd.DataFrame(vot_pred)\n",
    "    \n",
    "    # Output the hit-rate and the confusion matrix for each model\n",
    "    return mod.score(X_test_pca, y_test) \n",
    "        "
   ]
  },
  {
   "cell_type": "code",
   "execution_count": null,
   "id": "d4cefd63-87ab-4b55-9621-4dd36a3d22e9",
   "metadata": {},
   "outputs": [],
   "source": []
  }
 ],
 "metadata": {
  "kernelspec": {
   "display_name": "Python 3 (ipykernel)",
   "language": "python",
   "name": "python3"
  },
  "language_info": {
   "codemirror_mode": {
    "name": "ipython",
    "version": 3
   },
   "file_extension": ".py",
   "mimetype": "text/x-python",
   "name": "python",
   "nbconvert_exporter": "python",
   "pygments_lexer": "ipython3",
   "version": "3.7.13"
  }
 },
 "nbformat": 4,
 "nbformat_minor": 5
}
