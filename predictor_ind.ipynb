{
 "cells": [
  {
   "cell_type": "markdown",
   "id": "f38b0b7d-9da7-4958-9173-846597bb9964",
   "metadata": {},
   "source": [
    "# Predictor Fuction\n",
    "This function executes the strategy using machine learning models as input and calculates its resulting Sharpe Ratio"
   ]
  },
  {
   "cell_type": "code",
   "execution_count": 8,
   "id": "b4fae3a7-4697-426c-9e92-3cd2299c6c28",
   "metadata": {},
   "outputs": [],
   "source": [
    "def predictor_ind (model,df):\n",
    "    \n",
    "    # Importing required libraries\n",
    "    import numpy as np\n",
    "    import pandas as pd\n",
    "    #from sklearn.metrics import confusion_matrix\n",
    "    #from sklearn.metrics import explained_variance_score\n",
    "   \n",
    "    \n",
    "    # variables\n",
    "    # removing any NAs\n",
    "    df=df.dropna()\n",
    "    \n",
    "    \n",
    "   # Fit the model to the data using the training data\n",
    "    mod= model.fit(X_train_pca,y_train.values)\n",
    "    #model.fit(X_train_pca[:,1].reshape(-1, 1),y_train.values)\n",
    "    \n",
    "    # creating predictions for the data set\n",
    "    df=df.dropna()\n",
    "    pred=mod.predict(X_test_pca)\n",
    "    #mod.predict(X_test_pca[:,1].reshape(-1, 1))\n",
    "    \n",
    "    # Output the hit-rate and the confusion matrix for each model\n",
    "    return [mod.score(X_test_pca,y_test),pred]   \n",
    "    "
   ]
  },
  {
   "cell_type": "code",
   "execution_count": null,
   "id": "50425bba-aea6-4ecc-80c6-f5feb9b6063d",
   "metadata": {},
   "outputs": [],
   "source": []
  }
 ],
 "metadata": {
  "kernelspec": {
   "display_name": "Python 3 (ipykernel)",
   "language": "python",
   "name": "python3"
  },
  "language_info": {
   "codemirror_mode": {
    "name": "ipython",
    "version": 3
   },
   "file_extension": ".py",
   "mimetype": "text/x-python",
   "name": "python",
   "nbconvert_exporter": "python",
   "pygments_lexer": "ipython3",
   "version": "3.7.13"
  }
 },
 "nbformat": 4,
 "nbformat_minor": 5
}
