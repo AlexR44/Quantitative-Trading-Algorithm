{
 "cells": [
  {
   "cell_type": "markdown",
   "id": "7c985eb2-5abb-401d-a61e-39ce2cf26be2",
   "metadata": {},
   "source": [
    "# Lagged Series\n",
    "This creates a Pandas DataFrame that stores the percentage returns of the adjusted closing value of a stock obtained from AlphaVantage, along with a\n",
    "number of lagged returns from the prior trading days (lags defaults to 5 days). Trading volume, as well as the Direction from the previous day, are also included.\n",
    "\n"
   ]
  },
  {
   "cell_type": "code",
   "execution_count": 32,
   "id": "c6465f6e-0f16-4ab2-99df-021c6a6ffc3c",
   "metadata": {},
   "outputs": [],
   "source": [
    "from datetime import datetime as dt, timedelta as td\n",
    "import os\n",
    "import sys\n",
    "import numpy as np\n",
    "import pandas as pd\n",
    "import sklearn\n",
    "\n",
    "def create_lagged_series(df,lags=[5,10,20,60]):\n",
    "    \"\"\"\n",
    "    Parameters\n",
    "    ----------\n",
    "    df= time series data frame inluding adj_close_price and vol\n",
    "    symbol : ‘str‘\n",
    "    lags : int list, optional The number of days to ’lag’ the series by\n",
    "\n",
    "    \"\"\" \n",
    "    \n",
    "    # Clear any NAs\n",
    "    df=df.dropna()\n",
    "    \n",
    "    \n",
    "    # Creating the new lagged DataFrame\n",
    "    tslag = pd.DataFrame(index=df.index)\n",
    "    tslag['today'] = df['adj_close_price']\n",
    "    tslag['volume'] = df['volume']\n",
    "    \n",
    "    # Create returns DataFrame\n",
    "    tsret = pd.DataFrame(index=tslag.index)\n",
    "    tsret['volume'] = tslag['volume']\n",
    "    tsret['today'] = tslag['today'].pct_change()\n",
    "    \n",
    "    # Creating the shifted lag series of prior trading period close values\n",
    "    for i in lags:\n",
    "        tsret['Lag%s' % str(i)] = df['adj_close_price'].pct_change().rolling(i).mean().shift(1)\n",
    "    \n",
    "        \n",
    "    # Create the \"Direction\" column (+1 or -1) indicating an up/down day\n",
    "    tsret['Direction'] = np.sign(tsret['today'])\n",
    "    \n",
    "    tsret=tsret.dropna()\n",
    "        \n",
    "    return tsret"
   ]
  }
 ],
 "metadata": {
  "kernelspec": {
   "display_name": "Python 3 (ipykernel)",
   "language": "python",
   "name": "python3"
  },
  "language_info": {
   "codemirror_mode": {
    "name": "ipython",
    "version": 3
   },
   "file_extension": ".py",
   "mimetype": "text/x-python",
   "name": "python",
   "nbconvert_exporter": "python",
   "pygments_lexer": "ipython3",
   "version": "3.7.13"
  }
 },
 "nbformat": 4,
 "nbformat_minor": 5
}
